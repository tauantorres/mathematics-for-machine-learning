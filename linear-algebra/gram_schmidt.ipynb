{
 "cells": [
  {
   "cell_type": "code",
   "execution_count": 4,
   "metadata": {},
   "outputs": [],
   "source": [
    "import numpy as np\n",
    "import numpy.linalg as la\n",
    "\n",
    "verySmallNumber = 1e-14\n",
    "\n",
    "def gsBasis4(A):\n",
    "    B = np.array(A, dtype=np.float_)\n",
    "    B[:, 0] = B[:, 0] / la.norm(B[:, 0])\n",
    "    B[:, 1] = B[:, 1] - B[:, 1] @ B[:, 0] * B[:, 0]\n",
    "\n",
    "    if la.norm(B[:, 1]) > verySmallNumber:\n",
    "        B[:, 1] = B[:, 1] / la.norm(B[:, 1])\n",
    "    else:\n",
    "        B[:, 1] = np.zeros_like(B[:, 1])\n",
    "\n",
    "    B[:, 2] = B[:, 2] - B[:, 2] @ B[:, 0] * B[:, 0] - B[:, 2] @ B[:, 1] * B[:, 1]\n",
    "\n",
    "    if la.norm(B[:, 2]) > verySmallNumber:\n",
    "        B[:, 2] = B[:, 2] / la.norm(B[:, 2])\n",
    "    else:\n",
    "        B[:, 2] = np.zeros_like(B[:, 2])\n",
    "\n",
    "    B[:, 3] = B[:, 3] - B[:, 3] @ B[:, 0] * B[:, 0] - B[:, 3] @ B[:, 1] * B[:, 1] - B[:, 3] @ B[:, 2] * B[:, 2]\n",
    "\n",
    "    if la.norm(B[:, 3]) > verySmallNumber:\n",
    "        B[:, 3] = B[:, 3] / la.norm(B[:, 3])\n",
    "    else:\n",
    "        B[:, 3] = np.zeros_like(B[:, 3])\n",
    "\n",
    "    return B\n",
    "\n",
    "def gsBasis(A):\n",
    "\n",
    "    B = np.array(A, dtype=np.float_)\n",
    "\n",
    "    for i in range(B.shape[1]):\n",
    "        for j in range(i):\n",
    "            B[:, i] = B[:, i] - B[:, i] @ B[:, j] * B[:, j]\n",
    "\n",
    "        if la.norm(B[:, i]) > verySmallNumber:\n",
    "            B[:, i] = B[:, i] / la.norm(B[:, i])\n",
    "        else:\n",
    "            B[:, i] = np.zeros_like(B[:, i])\n",
    "            \n",
    "    return B\n",
    "\n",
    "def dimensions(A) :\n",
    "    return np.sum(la.norm(gsBasis(A), axis=0))\n"
   ]
  },
  {
   "cell_type": "code",
   "execution_count": null,
   "metadata": {},
   "outputs": [],
   "source": []
  }
 ],
 "metadata": {
  "kernelspec": {
   "display_name": ".venv",
   "language": "python",
   "name": "python3"
  },
  "language_info": {
   "codemirror_mode": {
    "name": "ipython",
    "version": 3
   },
   "file_extension": ".py",
   "mimetype": "text/x-python",
   "name": "python",
   "nbconvert_exporter": "python",
   "pygments_lexer": "ipython3",
   "version": "3.11.4"
  }
 },
 "nbformat": 4,
 "nbformat_minor": 2
}
