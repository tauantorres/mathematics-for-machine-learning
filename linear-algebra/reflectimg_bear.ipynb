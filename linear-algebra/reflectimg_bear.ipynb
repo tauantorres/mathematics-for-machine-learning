{
 "cells": [
  {
   "cell_type": "code",
   "execution_count": null,
   "metadata": {},
   "outputs": [],
   "source": [
    "import numpy as np\n",
    "from numpy.linalg import norm, inv\n",
    "from numpy import transpose\n",
    "from readonly.bearNecessities import *\n",
    "\n",
    "\n",
    "def build_reflection_matrix(bearBasis) : \n",
    "    E = gsBasis(bearBasis)\n",
    "    TE = np.array([[1, 0], [0, -1]])\n",
    "    T = E@TE@transpose(E)\n",
    "\n",
    "    return T\n"
   ]
  },
  {
   "cell_type": "code",
   "execution_count": null,
   "metadata": {},
   "outputs": [],
   "source": [
    "%matplotlib inline\n",
    "import matplotlib.pyplot as plt\n",
    "\n",
    "\n",
    "bearBasis = np.array(\n",
    "    [[1,   -1],\n",
    "     [1.5, 2]])\n",
    "\n",
    "T = build_reflection_matrix(bearBasis)\n",
    "\n",
    "reflected_bear_white_fur = T @ bear_white_fur\n",
    "reflected_bear_black_fur = T @ bear_black_fur\n",
    "reflected_bear_face = T @ bear_face\n",
    "\n",
    "ax = draw_mirror(bearBasis)\n",
    "\n",
    "ax.fill(bear_white_fur[0], bear_white_fur[1], color=bear_white, zorder=1)\n",
    "ax.fill(bear_black_fur[0], bear_black_fur[1], color=bear_black, zorder=2)\n",
    "ax.plot(bear_face[0], bear_face[1], color=bear_white, zorder=3)\n",
    "\n",
    "ax.fill(reflected_bear_white_fur[0], reflected_bear_white_fur[1], color=bear_white, zorder=1)\n",
    "ax.fill(reflected_bear_black_fur[0], reflected_bear_black_fur[1], color=bear_black, zorder=2)\n",
    "ax.plot(reflected_bear_face[0], reflected_bear_face[1], color=bear_white, zorder=3);\n",
    "\n"
   ]
  }
 ],
 "metadata": {
  "kernelspec": {
   "display_name": ".venv",
   "language": "python",
   "name": "python3"
  },
  "language_info": {
   "codemirror_mode": {
    "name": "ipython",
    "version": 3
   },
   "file_extension": ".py",
   "mimetype": "text/x-python",
   "name": "python",
   "nbconvert_exporter": "python",
   "pygments_lexer": "ipython3",
   "version": "3.11.4"
  }
 },
 "nbformat": 4,
 "nbformat_minor": 2
}
